{
 "cells": [
  {
   "cell_type": "code",
   "execution_count": 1,
   "id": "9be719d5-4701-4ba2-a2e8-1cf2d17f7329",
   "metadata": {},
   "outputs": [],
   "source": [
    "import os\n",
    "import logging\n",
    "def find_project_path():\n",
    "    \"\"\"\n",
    "    Find local path to project. OBS: you must be inside a git project directory\n",
    "    \n",
    "    Returns:\n",
    "        (str) local path to project\n",
    "    \"\"\"\n",
    "    \n",
    "    arg_abspath = ''\n",
    "    path_project = os.path.abspath(arg_abspath)\n",
    "    while '.git' not in os.listdir(\n",
    "                                   path_project\n",
    "                                  ):\n",
    "        arg_abspath = arg_abspath + '../'\n",
    "        path_project = os.path.abspath(arg_abspath)\n",
    "        if path_project == '/':\n",
    "            logging.error('ERROR: Could not find project path.')\n",
    "            return\n",
    "        \n",
    "    return path_project"
   ]
  },
  {
   "cell_type": "markdown",
   "id": "cbf7af4e-31db-417f-8dda-953cd5c8d104",
   "metadata": {},
   "source": [
    "# Load test dataset"
   ]
  },
  {
   "cell_type": "code",
   "execution_count": 2,
   "id": "6bd9e365-571e-4205-b102-94c16dd41921",
   "metadata": {},
   "outputs": [],
   "source": [
    "import pandas as pd"
   ]
  },
  {
   "cell_type": "code",
   "execution_count": 3,
   "id": "9b5bf103-2ddf-4a80-a3f7-176e0b087618",
   "metadata": {},
   "outputs": [],
   "source": [
    "project_path = find_project_path()\n",
    "df_test = pd.read_csv(f'{project_path}/dataset/test.csv')\n",
    "X_test = df_test.drop(['target'],axis=1)"
   ]
  },
  {
   "cell_type": "markdown",
   "id": "b1f3e02d-9f41-430c-8908-24e53338e73c",
   "metadata": {},
   "source": [
    "# Load Model"
   ]
  },
  {
   "cell_type": "code",
   "execution_count": 4,
   "id": "b0a84d01-c831-4888-a429-b9d3a8dfc4f8",
   "metadata": {
    "tags": []
   },
   "outputs": [],
   "source": [
    "experiment_id = '1'\n",
    "rund_id = 'c52e105116314eb283bf205bb4214757'"
   ]
  },
  {
   "cell_type": "code",
   "execution_count": 5,
   "id": "f8ddf88d-07e4-44f5-86ab-7aee97adfff7",
   "metadata": {},
   "outputs": [],
   "source": [
    "import mlflow"
   ]
  },
  {
   "cell_type": "code",
   "execution_count": 6,
   "id": "8fa833d1-e5fb-4e00-a901-4cd7e9b8f46a",
   "metadata": {
    "tags": []
   },
   "outputs": [
    {
     "name": "stderr",
     "output_type": "stream",
     "text": [
      "2023/07/15 18:08:59 WARNING mlflow.pyfunc: Detected one or more mismatches between the model's dependencies and the current Python environment:\n",
      " - cloudpickle (current: 2.2.1, required: cloudpickle==2.1.0)\n",
      "To fix the mismatches, call `mlflow.pyfunc.get_model_dependencies(model_uri)` to fetch the model's environment and install dependencies using the resulting environment file.\n",
      "2023/07/15 18:08:59 WARNING mlflow.pyfunc: The version of CloudPickle that was used to save the model, `CloudPickle 2.1.0`, differs from the version of CloudPickle that is currently running, `CloudPickle 2.2.1`, and may be incompatible\n"
     ]
    }
   ],
   "source": [
    "path_model = f'{project_path}/mlruns/{experiment_id}/{rund_id}/artifacts/custom-ml'\n",
    "model = mlflow.pyfunc.load_model(path_model)"
   ]
  },
  {
   "cell_type": "markdown",
   "id": "9b40e384-e00b-4ddf-a561-49c9262b984b",
   "metadata": {},
   "source": [
    "# Predict"
   ]
  },
  {
   "cell_type": "code",
   "execution_count": 7,
   "id": "6d04db2f-90e1-4b93-8003-0b8dfcb607e3",
   "metadata": {
    "tags": []
   },
   "outputs": [],
   "source": [
    "predictions = model.predict(X_test.iloc[:3])"
   ]
  },
  {
   "cell_type": "code",
   "execution_count": 8,
   "id": "f6cda5ec-fa51-4492-bb24-15dd10a4e4e1",
   "metadata": {},
   "outputs": [
    {
     "data": {
      "text/plain": [
       "array([[0.03046655, 0.96953345],\n",
       "       [0.96424941, 0.03575059],\n",
       "       [0.03016402, 0.96983598]])"
      ]
     },
     "execution_count": 8,
     "metadata": {},
     "output_type": "execute_result"
    }
   ],
   "source": [
    "predictions"
   ]
  }
 ],
 "metadata": {
  "kernelspec": {
   "display_name": "antifraude",
   "language": "python",
   "name": "antifraude"
  },
  "language_info": {
   "codemirror_mode": {
    "name": "ipython",
    "version": 3
   },
   "file_extension": ".py",
   "mimetype": "text/x-python",
   "name": "python",
   "nbconvert_exporter": "python",
   "pygments_lexer": "ipython3",
   "version": "3.8.16"
  }
 },
 "nbformat": 4,
 "nbformat_minor": 5
}
