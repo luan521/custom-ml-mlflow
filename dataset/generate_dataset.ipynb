{
 "cells": [
  {
   "cell_type": "code",
   "execution_count": 1,
   "id": "c5fbf4e1-d810-410c-830b-5d1a42d7d0b8",
   "metadata": {},
   "outputs": [],
   "source": [
    "from sklearn import datasets\n",
    "from sklearn.model_selection import train_test_split\n",
    "import pandas as pd"
   ]
  },
  {
   "cell_type": "code",
   "execution_count": 2,
   "id": "fcec6da8-2d1b-4c4a-b74c-9f59a453c164",
   "metadata": {},
   "outputs": [],
   "source": [
    "#Load dataset\n",
    "dataset = datasets.load_breast_cancer()\n",
    "df = pd.DataFrame(dataset['data'], columns = dataset['feature_names'])\n",
    "df['target'] = dataset['target']\n",
    "\n",
    "#Train test split\n",
    "df_train, df_test = train_test_split(df, test_size=0.2)\n",
    "df_train.index = range(df_train.shape[0])\n",
    "df_test.index = range(df_test.shape[0])"
   ]
  },
  {
   "cell_type": "code",
   "execution_count": 3,
   "id": "e837ce59-d77b-48cf-9944-e0e0b90fae52",
   "metadata": {},
   "outputs": [],
   "source": [
    "#Save CSVs\n",
    "df_train.to_csv('train.csv', index=False)\n",
    "df_test.to_csv('test.csv', index=False)"
   ]
  }
 ],
 "metadata": {
  "kernelspec": {
   "display_name": "Python 3 (ipykernel)",
   "language": "python",
   "name": "python3"
  },
  "language_info": {
   "codemirror_mode": {
    "name": "ipython",
    "version": 3
   },
   "file_extension": ".py",
   "mimetype": "text/x-python",
   "name": "python",
   "nbconvert_exporter": "python",
   "pygments_lexer": "ipython3",
   "version": "3.8.8"
  }
 },
 "nbformat": 4,
 "nbformat_minor": 5
}
